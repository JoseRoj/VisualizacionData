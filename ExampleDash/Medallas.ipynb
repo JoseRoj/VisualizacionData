{
 "cells": [
  {
   "cell_type": "code",
   "execution_count": 1,
   "id": "f110e251",
   "metadata": {},
   "outputs": [],
   "source": [
    "from dash import Dash, dcc, Output, Input  # pip install dash\n",
    "import dash_bootstrap_components as dbc    # pip install dash-bootstrap-components\n",
    "import plotly.express as px"
   ]
  },
  {
   "cell_type": "code",
   "execution_count": 2,
   "id": "e7d3b8e6",
   "metadata": {},
   "outputs": [],
   "source": [
    "# importamos datos desde la biblioteca plotly.express\n",
    "df = px.data.medals_long()"
   ]
  },
  {
   "cell_type": "code",
   "execution_count": 3,
   "id": "b28d0385-239b-4a39-a7b8-6368873da0cd",
   "metadata": {},
   "outputs": [
    {
     "data": {
      "text/html": [
       "<div>\n",
       "<style scoped>\n",
       "    .dataframe tbody tr th:only-of-type {\n",
       "        vertical-align: middle;\n",
       "    }\n",
       "\n",
       "    .dataframe tbody tr th {\n",
       "        vertical-align: top;\n",
       "    }\n",
       "\n",
       "    .dataframe thead th {\n",
       "        text-align: right;\n",
       "    }\n",
       "</style>\n",
       "<table border=\"1\" class=\"dataframe\">\n",
       "  <thead>\n",
       "    <tr style=\"text-align: right;\">\n",
       "      <th></th>\n",
       "      <th>nation</th>\n",
       "      <th>medal</th>\n",
       "      <th>count</th>\n",
       "    </tr>\n",
       "  </thead>\n",
       "  <tbody>\n",
       "    <tr>\n",
       "      <th>0</th>\n",
       "      <td>South Korea</td>\n",
       "      <td>gold</td>\n",
       "      <td>24</td>\n",
       "    </tr>\n",
       "    <tr>\n",
       "      <th>1</th>\n",
       "      <td>China</td>\n",
       "      <td>gold</td>\n",
       "      <td>10</td>\n",
       "    </tr>\n",
       "    <tr>\n",
       "      <th>2</th>\n",
       "      <td>Canada</td>\n",
       "      <td>gold</td>\n",
       "      <td>9</td>\n",
       "    </tr>\n",
       "    <tr>\n",
       "      <th>3</th>\n",
       "      <td>South Korea</td>\n",
       "      <td>silver</td>\n",
       "      <td>13</td>\n",
       "    </tr>\n",
       "    <tr>\n",
       "      <th>4</th>\n",
       "      <td>China</td>\n",
       "      <td>silver</td>\n",
       "      <td>15</td>\n",
       "    </tr>\n",
       "    <tr>\n",
       "      <th>5</th>\n",
       "      <td>Canada</td>\n",
       "      <td>silver</td>\n",
       "      <td>12</td>\n",
       "    </tr>\n",
       "    <tr>\n",
       "      <th>6</th>\n",
       "      <td>South Korea</td>\n",
       "      <td>bronze</td>\n",
       "      <td>11</td>\n",
       "    </tr>\n",
       "    <tr>\n",
       "      <th>7</th>\n",
       "      <td>China</td>\n",
       "      <td>bronze</td>\n",
       "      <td>8</td>\n",
       "    </tr>\n",
       "    <tr>\n",
       "      <th>8</th>\n",
       "      <td>Canada</td>\n",
       "      <td>bronze</td>\n",
       "      <td>12</td>\n",
       "    </tr>\n",
       "  </tbody>\n",
       "</table>\n",
       "</div>"
      ],
      "text/plain": [
       "        nation   medal  count\n",
       "0  South Korea    gold     24\n",
       "1        China    gold     10\n",
       "2       Canada    gold      9\n",
       "3  South Korea  silver     13\n",
       "4        China  silver     15\n",
       "5       Canada  silver     12\n",
       "6  South Korea  bronze     11\n",
       "7        China  bronze      8\n",
       "8       Canada  bronze     12"
      ]
     },
     "execution_count": 3,
     "metadata": {},
     "output_type": "execute_result"
    }
   ],
   "source": [
    "df"
   ]
  },
  {
   "cell_type": "code",
   "execution_count": 4,
   "id": "96b1ae8a",
   "metadata": {},
   "outputs": [],
   "source": [
    "# Los componentes. Ya los conocen\n",
    "app = Dash(__name__, external_stylesheets=[dbc.themes.VAPOR])\n",
    "mytitle = dcc.Markdown(children='# Análisis de Medallas Olímpicas')\n",
    "mygraph = dcc.Graph(figure={})\n",
    "dropdown = dcc.Dropdown(options=['Bar Plot', 'Scatter Plot'],\n",
    "                        value='Bar Plot',  # valor inicialmente desplegado\n",
    "                        clearable=False)\n"
   ]
  },
  {
   "cell_type": "code",
   "execution_count": 5,
   "id": "a37a2393",
   "metadata": {},
   "outputs": [],
   "source": [
    "# Personalización de layout\n",
    "app.layout = dbc.Container([mytitle, mygraph, dropdown])"
   ]
  },
  {
   "cell_type": "code",
   "execution_count": 6,
   "id": "94ca8adb",
   "metadata": {},
   "outputs": [],
   "source": [
    "# Callback para interactuar desde el dropdown al gráfico\n",
    "@app.callback(\n",
    "    Output(mygraph, component_property='figure'),\n",
    "    Input(dropdown, component_property='value')\n",
    ")\n",
    "\n",
    "def update_graph(user_input):  # argumento desde el component_property del Input\n",
    "    if user_input == 'Bar Plot':\n",
    "        fig = px.bar(data_frame=df, x=\"nation\", y=\"count\", color=\"medal\")\n",
    "\n",
    "    elif user_input == 'Scatter Plot':\n",
    "        fig = px.scatter(data_frame=df, x=\"count\", y=\"nation\", color=\"medal\",\n",
    "                         symbol=\"medal\")\n",
    "\n",
    "    return fig  # objeto retornado se asigna al component_property del Output"
   ]
  },
  {
   "cell_type": "code",
   "execution_count": null,
   "id": "5887f025",
   "metadata": {},
   "outputs": [
    {
     "name": "stdout",
     "output_type": "stream",
     "text": [
      "Dash is running on http://127.0.0.1:8053/\n",
      "\n",
      " * Serving Flask app '__main__'\n",
      " * Debug mode: off\n"
     ]
    },
    {
     "name": "stderr",
     "output_type": "stream",
     "text": [
      "WARNING: This is a development server. Do not use it in a production deployment. Use a production WSGI server instead.\n",
      " * Running on http://127.0.0.1:8053\n",
      "Press CTRL+C to quit\n"
     ]
    }
   ],
   "source": [
    "# Ejecutar\n",
    "if __name__=='__main__':\n",
    "    app.run_server(port=8053)\n"
   ]
  }
 ],
 "metadata": {
  "kernelspec": {
   "display_name": "Python 3 (ipykernel)",
   "language": "python",
   "name": "python3"
  },
  "language_info": {
   "codemirror_mode": {
    "name": "ipython",
    "version": 3
   },
   "file_extension": ".py",
   "mimetype": "text/x-python",
   "name": "python",
   "nbconvert_exporter": "python",
   "pygments_lexer": "ipython3",
   "version": "3.10.9"
  }
 },
 "nbformat": 4,
 "nbformat_minor": 5
}
