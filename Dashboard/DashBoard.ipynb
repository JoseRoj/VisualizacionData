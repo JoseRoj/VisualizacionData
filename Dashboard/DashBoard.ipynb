{
 "cells": [
  {
   "cell_type": "code",
   "execution_count": 1,
   "id": "eb4f502b-aa6a-45bb-a390-4f93127c9b42",
   "metadata": {},
   "outputs": [],
   "source": [
    "import numpy as np  # útil para cómputos matemáticos en Python\n",
    "import pandas as pd # biblioteca para estructuras de datos"
   ]
  },
  {
   "cell_type": "code",
   "execution_count": 2,
   "id": "4a725387-75d8-4e1d-818f-214dcebb957e",
   "metadata": {},
   "outputs": [
    {
     "name": "stdout",
     "output_type": "stream",
     "text": [
      "Data read into a pandas dataframe!\n"
     ]
    }
   ],
   "source": [
    "df_bite = pd.read_excel('DataBite.xlsx',\n",
    "                      sheet_name='Dog_Bite_Data',\n",
    "                      skipfooter=0)\n",
    "\n",
    "print ('Data read into a pandas dataframe!')"
   ]
  },
  {
   "cell_type": "code",
   "execution_count": 3,
   "id": "1507735d-9cf3-45d9-8acc-f3bb0913a5d2",
   "metadata": {},
   "outputs": [
    {
     "data": {
      "text/html": [
       "<div>\n",
       "<style scoped>\n",
       "    .dataframe tbody tr th:only-of-type {\n",
       "        vertical-align: middle;\n",
       "    }\n",
       "\n",
       "    .dataframe tbody tr th {\n",
       "        vertical-align: top;\n",
       "    }\n",
       "\n",
       "    .dataframe thead th {\n",
       "        text-align: right;\n",
       "    }\n",
       "</style>\n",
       "<table border=\"1\" class=\"dataframe\">\n",
       "  <thead>\n",
       "    <tr style=\"text-align: right;\">\n",
       "      <th></th>\n",
       "      <th>Bite Number</th>\n",
       "      <th>Bite Type</th>\n",
       "      <th>Incident Date</th>\n",
       "      <th>Victim Age</th>\n",
       "      <th>Victim Relationship</th>\n",
       "      <th>Bite Location</th>\n",
       "      <th>Bite Severity</th>\n",
       "      <th>Bite Circumstance</th>\n",
       "      <th>Controlled By</th>\n",
       "      <th>Treatment Cost</th>\n",
       "      <th>Date Reported</th>\n",
       "      <th>Incident Location</th>\n",
       "    </tr>\n",
       "  </thead>\n",
       "  <tbody>\n",
       "    <tr>\n",
       "      <th>10675</th>\n",
       "      <td>B20-014849</td>\n",
       "      <td>BITE</td>\n",
       "      <td>07/25/2020 05:00:00 PM</td>\n",
       "      <td>24.0</td>\n",
       "      <td>OWNER/VIC</td>\n",
       "      <td>L ARM</td>\n",
       "      <td>PUNCTURE</td>\n",
       "      <td>WALKING</td>\n",
       "      <td>OWNER</td>\n",
       "      <td>0.0</td>\n",
       "      <td>07/25/2020 12:00:00 AM</td>\n",
       "      <td>2502 S MARSALIS AVE ,DALLAS TX 75216</td>\n",
       "    </tr>\n",
       "  </tbody>\n",
       "</table>\n",
       "</div>"
      ],
      "text/plain": [
       "      Bite Number Bite Type           Incident Date  Victim Age  \\\n",
       "10675  B20-014849      BITE  07/25/2020 05:00:00 PM        24.0   \n",
       "\n",
       "      Victim Relationship Bite Location Bite Severity Bite Circumstance  \\\n",
       "10675           OWNER/VIC         L ARM      PUNCTURE           WALKING   \n",
       "\n",
       "      Controlled By  Treatment Cost          Date Reported   \\\n",
       "10675         OWNER             0.0  07/25/2020 12:00:00 AM   \n",
       "\n",
       "                          Incident Location  \n",
       "10675  2502 S MARSALIS AVE ,DALLAS TX 75216  "
      ]
     },
     "execution_count": 3,
     "metadata": {},
     "output_type": "execute_result"
    }
   ],
   "source": [
    "df_bite.tail(1)"
   ]
  },
  {
   "cell_type": "code",
   "execution_count": 4,
   "id": "b7a190b4-74ca-46a2-b939-19e7f57d85f9",
   "metadata": {},
   "outputs": [
    {
     "name": "stdout",
     "output_type": "stream",
     "text": [
      "<class 'pandas.core.frame.DataFrame'>\n",
      "RangeIndex: 10676 entries, 0 to 10675\n",
      "Data columns (total 12 columns):\n",
      " #   Column               Non-Null Count  Dtype  \n",
      "---  ------               --------------  -----  \n",
      " 0   Bite Number          10676 non-null  object \n",
      " 1   Bite Type            10676 non-null  object \n",
      " 2   Incident Date        10676 non-null  object \n",
      " 3   Victim Age           7810 non-null   float64\n",
      " 4   Victim Relationship  9783 non-null   object \n",
      " 5   Bite Location        9530 non-null   object \n",
      " 6   Bite Severity        9569 non-null   object \n",
      " 7   Bite Circumstance    9172 non-null   object \n",
      " 8   Controlled By        6539 non-null   object \n",
      " 9   Treatment Cost       8012 non-null   float64\n",
      " 10  Date Reported        10517 non-null  object \n",
      " 11  Incident Location    10314 non-null  object \n",
      "dtypes: float64(2), object(10)\n",
      "memory usage: 1001.0+ KB\n"
     ]
    }
   ],
   "source": [
    "df_bite.info()"
   ]
  },
  {
   "cell_type": "code",
   "execution_count": 5,
   "id": "7bb42251-73b2-42e9-8d8d-2fb4daedd147",
   "metadata": {},
   "outputs": [
    {
     "data": {
      "text/plain": [
       "array(['Bite Number', 'Bite Type', 'Incident Date', 'Victim Age',\n",
       "       'Victim Relationship', 'Bite Location', 'Bite Severity',\n",
       "       'Bite Circumstance', 'Controlled By', 'Treatment Cost',\n",
       "       'Date Reported ', 'Incident Location'], dtype=object)"
      ]
     },
     "execution_count": 5,
     "metadata": {},
     "output_type": "execute_result"
    }
   ],
   "source": [
    "df_bite.columns.values "
   ]
  },
  {
   "cell_type": "code",
   "execution_count": 6,
   "id": "d196d713-daf5-4e55-9a85-85dc5f5db4b1",
   "metadata": {},
   "outputs": [],
   "source": [
    "df_bite.drop(['Treatment Cost','Date Reported '], axis=1, inplace = True)"
   ]
  },
  {
   "cell_type": "code",
   "execution_count": 7,
   "id": "38173a32-cf48-4be0-9319-6103331dc26d",
   "metadata": {},
   "outputs": [
    {
     "data": {
      "text/html": [
       "<div>\n",
       "<style scoped>\n",
       "    .dataframe tbody tr th:only-of-type {\n",
       "        vertical-align: middle;\n",
       "    }\n",
       "\n",
       "    .dataframe tbody tr th {\n",
       "        vertical-align: top;\n",
       "    }\n",
       "\n",
       "    .dataframe thead th {\n",
       "        text-align: right;\n",
       "    }\n",
       "</style>\n",
       "<table border=\"1\" class=\"dataframe\">\n",
       "  <thead>\n",
       "    <tr style=\"text-align: right;\">\n",
       "      <th></th>\n",
       "      <th>Bite Number</th>\n",
       "      <th>Bite Type</th>\n",
       "      <th>Incident Date</th>\n",
       "      <th>Victim Age</th>\n",
       "      <th>Victim Relationship</th>\n",
       "      <th>Bite Location</th>\n",
       "      <th>Bite Severity</th>\n",
       "      <th>Bite Circumstance</th>\n",
       "      <th>Controlled By</th>\n",
       "      <th>Incident Location</th>\n",
       "    </tr>\n",
       "  </thead>\n",
       "  <tbody>\n",
       "    <tr>\n",
       "      <th>0</th>\n",
       "      <td>B17-009452</td>\n",
       "      <td>CONTACT</td>\n",
       "      <td>09/08/2020 07:45:00 AM</td>\n",
       "      <td>50.0</td>\n",
       "      <td>NEIGHBOR</td>\n",
       "      <td>R HAND</td>\n",
       "      <td>MINOR</td>\n",
       "      <td>BITE/SCRAT</td>\n",
       "      <td>NaN</td>\n",
       "      <td>2405 HARTLINE DR ,DALLAS TX 75228</td>\n",
       "    </tr>\n",
       "  </tbody>\n",
       "</table>\n",
       "</div>"
      ],
      "text/plain": [
       "  Bite Number Bite Type           Incident Date  Victim Age  \\\n",
       "0  B17-009452   CONTACT  09/08/2020 07:45:00 AM        50.0   \n",
       "\n",
       "  Victim Relationship Bite Location Bite Severity Bite Circumstance  \\\n",
       "0            NEIGHBOR        R HAND         MINOR        BITE/SCRAT   \n",
       "\n",
       "  Controlled By                  Incident Location  \n",
       "0           NaN  2405 HARTLINE DR ,DALLAS TX 75228  "
      ]
     },
     "execution_count": 7,
     "metadata": {},
     "output_type": "execute_result"
    }
   ],
   "source": [
    "df_bite.head(1)"
   ]
  },
  {
   "cell_type": "code",
   "execution_count": 10,
   "id": "fd97d3e8-bcba-4f98-8d7f-f9114b22ad6e",
   "metadata": {},
   "outputs": [
    {
     "data": {
      "text/plain": [
       "Bite Type                 0\n",
       "Incident Date             0\n",
       "Victim Age             2866\n",
       "Victim Relationship     893\n",
       "Bite Location          1146\n",
       "Bite Severity          1107\n",
       "Bite Circumstance      1504\n",
       "Controlled By          4137\n",
       "Incident Location       362\n",
       "dtype: int64"
      ]
     },
     "execution_count": 10,
     "metadata": {},
     "output_type": "execute_result"
    }
   ],
   "source": [
    "df_bite.isnull().sum() # Bastantes datos null, por lo que se puede interpretar de distintas manera"
   ]
  },
  {
   "cell_type": "code",
   "execution_count": 9,
   "id": "37656457-9641-480d-aff4-ad5013f9f752",
   "metadata": {},
   "outputs": [],
   "source": [
    "#df_bite.set_index('Bite Number', inplace=True)\n"
   ]
  },
  {
   "cell_type": "code",
   "execution_count": null,
   "id": "10e72c13-8f1d-407a-8d10-89951a0d45fc",
   "metadata": {},
   "outputs": [
    {
     "data": {
      "text/html": [
       "<div>\n",
       "<style scoped>\n",
       "    .dataframe tbody tr th:only-of-type {\n",
       "        vertical-align: middle;\n",
       "    }\n",
       "\n",
       "    .dataframe tbody tr th {\n",
       "        vertical-align: top;\n",
       "    }\n",
       "\n",
       "    .dataframe thead th {\n",
       "        text-align: right;\n",
       "    }\n",
       "</style>\n",
       "<table border=\"1\" class=\"dataframe\">\n",
       "  <thead>\n",
       "    <tr style=\"text-align: right;\">\n",
       "      <th></th>\n",
       "      <th>Bite Type</th>\n",
       "      <th>Incident Date</th>\n",
       "      <th>Victim Age</th>\n",
       "      <th>Victim Relationship</th>\n",
       "      <th>Bite Location</th>\n",
       "      <th>Bite Severity</th>\n",
       "      <th>Bite Circumstance</th>\n",
       "      <th>Controlled By</th>\n",
       "      <th>Incident Location</th>\n",
       "    </tr>\n",
       "    <tr>\n",
       "      <th>Bite Number</th>\n",
       "      <th></th>\n",
       "      <th></th>\n",
       "      <th></th>\n",
       "      <th></th>\n",
       "      <th></th>\n",
       "      <th></th>\n",
       "      <th></th>\n",
       "      <th></th>\n",
       "      <th></th>\n",
       "    </tr>\n",
       "  </thead>\n",
       "  <tbody>\n",
       "    <tr>\n",
       "      <th>B20-014849</th>\n",
       "      <td>BITE</td>\n",
       "      <td>07/25/2020 05:00:00 PM</td>\n",
       "      <td>24.0</td>\n",
       "      <td>OWNER/VIC</td>\n",
       "      <td>L ARM</td>\n",
       "      <td>PUNCTURE</td>\n",
       "      <td>WALKING</td>\n",
       "      <td>OWNER</td>\n",
       "      <td>2502 S MARSALIS AVE ,DALLAS TX 75216</td>\n",
       "    </tr>\n",
       "  </tbody>\n",
       "</table>\n",
       "</div>"
      ],
      "text/plain": [
       "            Bite Type           Incident Date  Victim Age Victim Relationship  \\\n",
       "Bite Number                                                                     \n",
       "B20-014849       BITE  07/25/2020 05:00:00 PM        24.0           OWNER/VIC   \n",
       "\n",
       "            Bite Location Bite Severity Bite Circumstance Controlled By  \\\n",
       "Bite Number                                                               \n",
       "B20-014849          L ARM      PUNCTURE           WALKING         OWNER   \n",
       "\n",
       "                                Incident Location  \n",
       "Bite Number                                        \n",
       "B20-014849   2502 S MARSALIS AVE ,DALLAS TX 75216  "
      ]
     },
     "execution_count": 17,
     "metadata": {},
     "output_type": "execute_result"
    }
   ],
   "source": [
    "df_bite.tail(1)"
   ]
  }
 ],
 "metadata": {
  "kernelspec": {
   "display_name": "Python 3 (ipykernel)",
   "language": "python",
   "name": "python3"
  },
  "language_info": {
   "codemirror_mode": {
    "name": "ipython",
    "version": 3
   },
   "file_extension": ".py",
   "mimetype": "text/x-python",
   "name": "python",
   "nbconvert_exporter": "python",
   "pygments_lexer": "ipython3",
   "version": "3.10.9"
  }
 },
 "nbformat": 4,
 "nbformat_minor": 5
}
